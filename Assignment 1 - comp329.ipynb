{
 "cells": [
  {
   "cell_type": "markdown",
   "metadata": {},
   "source": [
    "# Assignment 1"
   ]
  },
  {
   "cell_type": "markdown",
   "metadata": {},
   "source": [
    "The car's market price data set consists of three types of entities: \n",
    "* the specification of an auto in terms of various characteristics;\n",
    "* its assigned insurance risk rating;\n",
    "* its normalized losses in use as compared to other cars. \n",
    "\n",
    "The second rating corresponds to the degree to which the auto is more risky than its price indicates. Cars are initially assigned a risk factor symbol associated with its price. Then, if it is more risky (or less), this symbol is adjusted by moving it up (or down) the scale. Actuarians call this process \"symboling\". A value of +3 indicates that the auto is risky, -3 that it is probably pretty safe. "
   ]
  },
  {
   "cell_type": "markdown",
   "metadata": {},
   "source": [
    "### Attribute Information"
   ]
  },
  {
   "cell_type": "markdown",
   "metadata": {},
   "source": [
    "1. symboling: -3, -2, -1, 0, 1, 2, 3. \n",
    "2. normalized-losses: continuous from 65 to 256. \n",
    "3. make: alfa-romero, audi, bmw, chevrolet, dodge, honda,isuzu, jaguar, mazda, mercedes-benz, mercury, mitsubishi, nissan, peugot, plymouth, porsche, renault, saab, subaru, toyota, volkswagen, volvo \n",
    "4. fuel-type: diesel, gas. \n",
    "5. aspiration: std, turbo. \n",
    "6. num-of-doors: four, two. \n",
    "7. body-style: hardtop, wagon, sedan, hatchback, convertible. \n",
    "8. drive-wheels: 4wd, fwd, rwd. \n",
    "9. engine-location: front, rear. \n",
    "10. wheel-base: continuous from 86.6 to 120.9. \n",
    "11. length: continuous from 141.1 to 208.1. \n",
    "12. width: continuous from 60.3 to 72.3. \n",
    "13. height: continuous from 47.8 to 59.8. \n",
    "14. curb-weight: continuous from 1488 to 4066. \n",
    "15. engine-type: dohc, dohcv, l, ohc, ohcf, ohcv, rotor. \n",
    "16. num-of-cylinders: eight, five, four, six, three, twelve, two. \n",
    "17. engine-size: continuous from 61 to 326. \n",
    "18. fuel-system: 1bbl, 2bbl, 4bbl, idi, mfi, mpfi, spdi, spfi. \n",
    "19. bore: continuous from 2.54 to 3.94. \n",
    "20. stroke: continuous from 2.07 to 4.17. \n",
    "21. compression-ratio: continuous from 7 to 23. \n",
    "22. horsepower: continuous from 48 to 288. \n",
    "23. peak-rpm: continuous from 4150 to 6600. \n",
    "24. city-mpg: continuous from 13 to 49. \n",
    "25. highway-mpg: continuous from 16 to 54. \n",
    "26. price: continuous from 5118 to 45400."
   ]
  },
  {
   "cell_type": "markdown",
   "metadata": {},
   "source": [
    "### Relevant Papers"
   ]
  },
  {
   "cell_type": "markdown",
   "metadata": {},
   "source": [
    "Kibler, D., Aha, D.W., & Albert,M. (1989). Instance-based prediction of real-valued attributes. Computational Intelligence, Vol 5, 51--57. "
   ]
  },
  {
   "cell_type": "markdown",
   "metadata": {},
   "source": [
    "## Task 1 - Data Exploration [10 Marks]"
   ]
  },
  {
   "cell_type": "markdown",
   "metadata": {},
   "source": [
    "###  1.1 Import Data"
   ]
  },
  {
   "cell_type": "markdown",
   "metadata": {},
   "source": [
    "**Q [1 Mark]:** Upload the dataset of `Cars.data`. Import the dataset into a data frame named **cars**. Please also name each attribute (see *Attribute Information* section above)."
   ]
  },
  {
   "cell_type": "code",
   "execution_count": 90,
   "metadata": {},
   "outputs": [
    {
     "data": {
      "text/html": [
       "<div>\n",
       "<style scoped>\n",
       "    .dataframe tbody tr th:only-of-type {\n",
       "        vertical-align: middle;\n",
       "    }\n",
       "\n",
       "    .dataframe tbody tr th {\n",
       "        vertical-align: top;\n",
       "    }\n",
       "\n",
       "    .dataframe thead th {\n",
       "        text-align: right;\n",
       "    }\n",
       "</style>\n",
       "<table border=\"1\" class=\"dataframe\">\n",
       "  <thead>\n",
       "    <tr style=\"text-align: right;\">\n",
       "      <th></th>\n",
       "      <th>symboling</th>\n",
       "      <th>normalized-losses</th>\n",
       "      <th>make</th>\n",
       "      <th>fuel-type</th>\n",
       "      <th>aspiration</th>\n",
       "      <th>num-of-doors</th>\n",
       "      <th>body-style</th>\n",
       "      <th>drive-wheels</th>\n",
       "      <th>engine-location</th>\n",
       "      <th>wheel-base</th>\n",
       "      <th>...</th>\n",
       "      <th>engine-size</th>\n",
       "      <th>fuel-system</th>\n",
       "      <th>bore</th>\n",
       "      <th>stroke</th>\n",
       "      <th>compression-ratio</th>\n",
       "      <th>horsepower</th>\n",
       "      <th>peak-rpm</th>\n",
       "      <th>city-mpg</th>\n",
       "      <th>highway-mpg</th>\n",
       "      <th>price</th>\n",
       "    </tr>\n",
       "  </thead>\n",
       "  <tbody>\n",
       "    <tr>\n",
       "      <th>0</th>\n",
       "      <td>3</td>\n",
       "      <td>?</td>\n",
       "      <td>alfa-romero</td>\n",
       "      <td>gas</td>\n",
       "      <td>std</td>\n",
       "      <td>two</td>\n",
       "      <td>convertible</td>\n",
       "      <td>rwd</td>\n",
       "      <td>front</td>\n",
       "      <td>88.6</td>\n",
       "      <td>...</td>\n",
       "      <td>130</td>\n",
       "      <td>mpfi</td>\n",
       "      <td>3.47</td>\n",
       "      <td>2.68</td>\n",
       "      <td>9.0</td>\n",
       "      <td>111</td>\n",
       "      <td>5000</td>\n",
       "      <td>21</td>\n",
       "      <td>27</td>\n",
       "      <td>13495</td>\n",
       "    </tr>\n",
       "    <tr>\n",
       "      <th>1</th>\n",
       "      <td>3</td>\n",
       "      <td>?</td>\n",
       "      <td>alfa-romero</td>\n",
       "      <td>gas</td>\n",
       "      <td>std</td>\n",
       "      <td>two</td>\n",
       "      <td>convertible</td>\n",
       "      <td>rwd</td>\n",
       "      <td>front</td>\n",
       "      <td>88.6</td>\n",
       "      <td>...</td>\n",
       "      <td>130</td>\n",
       "      <td>mpfi</td>\n",
       "      <td>3.47</td>\n",
       "      <td>2.68</td>\n",
       "      <td>9.0</td>\n",
       "      <td>111</td>\n",
       "      <td>5000</td>\n",
       "      <td>21</td>\n",
       "      <td>27</td>\n",
       "      <td>16500</td>\n",
       "    </tr>\n",
       "    <tr>\n",
       "      <th>2</th>\n",
       "      <td>1</td>\n",
       "      <td>?</td>\n",
       "      <td>alfa-romero</td>\n",
       "      <td>gas</td>\n",
       "      <td>std</td>\n",
       "      <td>two</td>\n",
       "      <td>hatchback</td>\n",
       "      <td>rwd</td>\n",
       "      <td>front</td>\n",
       "      <td>94.5</td>\n",
       "      <td>...</td>\n",
       "      <td>152</td>\n",
       "      <td>mpfi</td>\n",
       "      <td>2.68</td>\n",
       "      <td>3.47</td>\n",
       "      <td>9.0</td>\n",
       "      <td>154</td>\n",
       "      <td>5000</td>\n",
       "      <td>19</td>\n",
       "      <td>26</td>\n",
       "      <td>16500</td>\n",
       "    </tr>\n",
       "    <tr>\n",
       "      <th>3</th>\n",
       "      <td>2</td>\n",
       "      <td>164</td>\n",
       "      <td>audi</td>\n",
       "      <td>gas</td>\n",
       "      <td>std</td>\n",
       "      <td>four</td>\n",
       "      <td>sedan</td>\n",
       "      <td>fwd</td>\n",
       "      <td>front</td>\n",
       "      <td>99.8</td>\n",
       "      <td>...</td>\n",
       "      <td>109</td>\n",
       "      <td>mpfi</td>\n",
       "      <td>3.19</td>\n",
       "      <td>3.40</td>\n",
       "      <td>10.0</td>\n",
       "      <td>102</td>\n",
       "      <td>5500</td>\n",
       "      <td>24</td>\n",
       "      <td>30</td>\n",
       "      <td>13950</td>\n",
       "    </tr>\n",
       "    <tr>\n",
       "      <th>4</th>\n",
       "      <td>2</td>\n",
       "      <td>164</td>\n",
       "      <td>audi</td>\n",
       "      <td>gas</td>\n",
       "      <td>std</td>\n",
       "      <td>four</td>\n",
       "      <td>sedan</td>\n",
       "      <td>4wd</td>\n",
       "      <td>front</td>\n",
       "      <td>99.4</td>\n",
       "      <td>...</td>\n",
       "      <td>136</td>\n",
       "      <td>mpfi</td>\n",
       "      <td>3.19</td>\n",
       "      <td>3.40</td>\n",
       "      <td>8.0</td>\n",
       "      <td>115</td>\n",
       "      <td>5500</td>\n",
       "      <td>18</td>\n",
       "      <td>22</td>\n",
       "      <td>17450</td>\n",
       "    </tr>\n",
       "  </tbody>\n",
       "</table>\n",
       "<p>5 rows × 26 columns</p>\n",
       "</div>"
      ],
      "text/plain": [
       "   symboling normalized-losses         make fuel-type aspiration num-of-doors  \\\n",
       "0          3                 ?  alfa-romero       gas        std          two   \n",
       "1          3                 ?  alfa-romero       gas        std          two   \n",
       "2          1                 ?  alfa-romero       gas        std          two   \n",
       "3          2               164         audi       gas        std         four   \n",
       "4          2               164         audi       gas        std         four   \n",
       "\n",
       "    body-style drive-wheels engine-location  wheel-base  ...  engine-size  \\\n",
       "0  convertible          rwd           front        88.6  ...          130   \n",
       "1  convertible          rwd           front        88.6  ...          130   \n",
       "2    hatchback          rwd           front        94.5  ...          152   \n",
       "3        sedan          fwd           front        99.8  ...          109   \n",
       "4        sedan          4wd           front        99.4  ...          136   \n",
       "\n",
       "   fuel-system  bore  stroke compression-ratio horsepower  peak-rpm city-mpg  \\\n",
       "0         mpfi  3.47    2.68               9.0        111      5000       21   \n",
       "1         mpfi  3.47    2.68               9.0        111      5000       21   \n",
       "2         mpfi  2.68    3.47               9.0        154      5000       19   \n",
       "3         mpfi  3.19    3.40              10.0        102      5500       24   \n",
       "4         mpfi  3.19    3.40               8.0        115      5500       18   \n",
       "\n",
       "  highway-mpg  price  \n",
       "0          27  13495  \n",
       "1          27  16500  \n",
       "2          26  16500  \n",
       "3          30  13950  \n",
       "4          22  17450  \n",
       "\n",
       "[5 rows x 26 columns]"
      ]
     },
     "execution_count": 90,
     "metadata": {},
     "output_type": "execute_result"
    }
   ],
   "source": [
    "import pandas as pd\n",
    "\n",
    "cars = pd.read_csv('Cars.data', header = None)\n",
    "cols = ['symboling', \n",
    "            'normalized-losses', \n",
    "            'make', \n",
    "            'fuel-type', \n",
    "            'aspiration', \n",
    "            'num-of-doors', \n",
    "            'body-style', \n",
    "            'drive-wheels', \n",
    "            'engine-location',\n",
    "            'wheel-base',\n",
    "            'length',\n",
    "            'width',\n",
    "            'height',\n",
    "            'curb-weight',\n",
    "            'engine-type',\n",
    "            'num-of-cylinders',\n",
    "            'engine-size',\n",
    "            'fuel-system',\n",
    "            'bore',\n",
    "            'stroke',\n",
    "            'compression-ratio',\n",
    "            'horsepower',\n",
    "            'peak-rpm',\n",
    "            'city-mpg',\n",
    "            'highway-mpg',\n",
    "            'price']\n",
    "\n",
    "cars.columns = cols\n",
    "cars.head()"
   ]
  },
  {
   "cell_type": "markdown",
   "metadata": {},
   "source": [
    "###  1.2 Data Cleaning"
   ]
  },
  {
   "cell_type": "markdown",
   "metadata": {},
   "source": [
    "**Q [1 Mark]:** Look at columns `symboling` and `normalized-losses`, code to report whether we have missing value(s) for each of these two columns. If any, report the number of missing values.\n",
    "\n",
    "Note: Here missing values only refer to the \"?\"."
   ]
  },
  {
   "cell_type": "code",
   "execution_count": 91,
   "metadata": {},
   "outputs": [
    {
     "name": "stdout",
     "output_type": "stream",
     "text": [
      "Number of Symboling columns which have missing values: 0\n",
      "\n",
      "Number of Normalized-losses column which have missing values: 41\n"
     ]
    },
    {
     "name": "stderr",
     "output_type": "stream",
     "text": [
      "/Users/prempradeep/anaconda3/lib/python3.6/site-packages/pandas/core/ops.py:1649: FutureWarning: elementwise comparison failed; returning scalar instead, but in the future will perform elementwise comparison\n",
      "  result = method(y)\n"
     ]
    }
   ],
   "source": [
    "symboling_col = cars.loc[cars['symboling'] == '?']\n",
    "print('Number of Symboling columns which have missing values:', len(symboling_col))\n",
    "\n",
    "normloss_col = cars.loc[cars['normalized-losses'] == '?']\n",
    "print('\\nNumber of Normalized-losses column which have missing values:', len(normloss_col.index))"
   ]
  },
  {
   "cell_type": "markdown",
   "metadata": {},
   "source": [
    "**Q [1 Mark]:** Report the number of columns which have missing values in the **cars** data."
   ]
  },
  {
   "cell_type": "code",
   "execution_count": 92,
   "metadata": {},
   "outputs": [
    {
     "name": "stdout",
     "output_type": "stream",
     "text": [
      "Number of columns which have missing values are: 7\n"
     ]
    }
   ],
   "source": [
    "cols = 0\n",
    "\n",
    "for column in cars.columns:\n",
    "    if '?' in set(cars[column]):\n",
    "        cols+=1\n",
    "print(\"Number of columns which have missing values are:\", cols)"
   ]
  },
  {
   "cell_type": "markdown",
   "metadata": {},
   "source": [
    "**Q [1 Mark]:** Report the total number of missing values in the **cars** data."
   ]
  },
  {
   "cell_type": "code",
   "execution_count": 94,
   "metadata": {},
   "outputs": [
    {
     "name": "stdout",
     "output_type": "stream",
     "text": [
      "The total amount of missing values across all columns: 59\n"
     ]
    }
   ],
   "source": [
    "total_cols = 0\n",
    "\n",
    "for column in cars.columns:\n",
    "    for row in cars[column]:\n",
    "        if row == '?':\n",
    "            total_cols+=1\n",
    "print(\"The total amount of missing values across all columns:\", total_cols)         "
   ]
  },
  {
   "cell_type": "markdown",
   "metadata": {},
   "source": [
    "**Q [2 Marks]:** If you do find that this data has missing values, replace the missing values using the following strategy:\n",
    "\n",
    "- For numerical column, replace the missing values with the mean value of that column.\n",
    "- For categorical column, replace the missing values with the most frequent value of that column.\n",
    "\n",
    "Hint: Refer to [`SimpleImputer`](https://scikit-learn.org/stable/modules/generated/sklearn.impute.SimpleImputer.html)"
   ]
  },
  {
   "cell_type": "code",
   "execution_count": 95,
   "metadata": {},
   "outputs": [],
   "source": [
    "import numpy as np\n",
    "from sklearn.impute import SimpleImputer\n",
    "\n",
    "cars = cars.replace('?', np.nan)\n",
    "\n",
    "imp_common = SimpleImputer(missing_values=np.nan, strategy='most_common')\n",
    "\n",
    "imp_mean = SimpleImputer(missing_values=np.nan, strategy='mean')\n",
    "\n",
    "\n",
    "# replace all empty values with mean or most common depending on data type \n",
    "cars['symboling'] = imp_freq.fit_transform(cars['symboling'].values.reshape(-1, 1))\n",
    "cars['normalized-losses'] = imp_mean.fit_transform(cars['normalized-losses'].values.reshape(-1,1))\n",
    "cars['make'] = imp_freq.fit_transform(cars['make'].values.reshape(-1,1))\n",
    "cars['fuel-type'] = imp_freq.fit_transform(cars['fuel-type'].values.reshape(-1,1))\n",
    "cars['aspiration'] = imp_freq.fit_transform(cars['aspiration'].values.reshape(-1,1))\n",
    "cars['num-of-doors'] = imp_freq.fit_transform(cars['num-of-doors'].values.reshape(-1,1))\n",
    "cars['body-style'] = imp_freq.fit_transform(cars['body-style'].values.reshape(-1,1))\n",
    "cars['drive-wheels'] = imp_freq.fit_transform(cars['drive-wheels'].values.reshape(-1,1))\n",
    "cars['engine-location'] = imp_freq.fit_transform(cars['engine-location'].values.reshape(-1,1))\n",
    "cars['wheel-base'] = imp_mean.fit_transform(cars['wheel-base'].values.reshape(-1,1))\n",
    "cars['length'] = imp_mean.fit_transform(cars['length'].values.reshape(-1,1))\n",
    "cars['width'] = imp_mean.fit_transform(cars['width'].values.reshape(-1,1))\n",
    "cars['height'] = imp_mean.fit_transform(cars['height'].values.reshape(-1,1))\n",
    "cars['curb-weight'] = imp_mean.fit_transform(cars['curb-weight'].values.reshape(-1,1))\n",
    "cars['engine-type'] = imp_freq.fit_transform(cars['engine-type'].values.reshape(-1,1))\n",
    "cars['num-of-cylinders'] = imp_freq.fit_transform(cars['num-of-cylinders'].values.reshape(-1,1))\n",
    "cars['engine-size'] = imp_mean.fit_transform(cars['engine-size'].values.reshape(-1,1))\n",
    "cars['fuel-system'] = imp_freq.fit_transform(cars['fuel-system'].values.reshape(-1,1))\n",
    "cars['bore'] = imp_mean.fit_transform(cars['bore'].values.reshape(-1,1))\n",
    "cars['stroke'] = imp_mean.fit_transform(cars['stroke'].values.reshape(-1,1))\n",
    "cars['compression-ratio'] = imp_mean.fit_transform(cars['compression-ratio'].values.reshape(-1,1))\n",
    "cars['horsepower'] = imp_mean.fit_transform(cars['horsepower'].values.reshape(-1,1))\n",
    "cars['peak-rpm'] = imp_mean.fit_transform(cars['peak-rpm'].values.reshape(-1,1))\n",
    "cars['city-mpg'] = imp_mean.fit_transform(cars['city-mpg'].values.reshape(-1,1))\n",
    "cars['highway-mpg'] = imp_mean.fit_transform(cars['highway-mpg'].values.reshape(-1,1))\n",
    "cars['price'] = imp_mean.fit_transform(cars['price'].values.reshape(-1,1))\n",
    "\n",
    "# making sure all data types are consistent with what they should be  \n",
    "cars['symboling'] = cars['symboling'].astype(str)\n",
    "cars['normalized-losses'] = cars['normalized-losses'].astype('int64')\n",
    "cars['make'] = cars['make'].astype(str)\n",
    "cars['fuel-type'] = cars['fuel-type'].astype(str)\n",
    "cars['aspiration'] = cars['aspiration'].astype(str)\n",
    "cars['num-of-doors'] = cars['num-of-doors'].astype(str)\n",
    "cars['body-style'] = cars['body-style'].astype(str)\n",
    "cars['drive-wheels'] = cars['drive-wheels'].astype(str)\n",
    "cars['engine-location'] = cars['engine-location'].astype(str)\n",
    "cars['wheel-base'] = cars['wheel-base'].astype(float)\n",
    "cars['length'] = cars['length'].astype(float)\n",
    "cars['width'] = cars['width'].astype(float)\n",
    "cars['height'] = cars['height'].astype(float)\n",
    "cars['curb-weight'] = cars['curb-weight'].astype('int64')\n",
    "cars['engine-type'] = cars['engine-type'].astype(str)\n",
    "cars['num-of-cylinders'] = cars['num-of-cylinders'].astype(str)\n",
    "cars['engine-size'] = cars['engine-size'].astype('int64')\n",
    "cars['fuel-system'] = cars['fuel-system'].astype(str)\n",
    "cars['bore'] = cars['bore'].astype(float)\n",
    "cars['stroke'] = cars['stroke'].astype(float)\n",
    "cars['compression-ratio'] = cars['compression-ratio'].astype(int)\n",
    "cars['horsepower'] = cars['horsepower'].astype('int64')\n",
    "cars['peak-rpm'] = cars['peak-rpm'].astype('int64')\n",
    "cars['city-mpg'] = cars['city-mpg'].astype(int)\n",
    "cars['highway-mpg'] = cars['highway-mpg'].astype(int)\n",
    "cars['price'] = cars['price'].astype('int64')\n",
    "\n",
    "#cars.info()"
   ]
  },
  {
   "cell_type": "markdown",
   "metadata": {},
   "source": [
    "###  1.3 Data Exploration"
   ]
  },
  {
   "cell_type": "markdown",
   "metadata": {},
   "source": [
    "**Q [1 Mark]:** Draw a histogram on `Price` and discuss your findings."
   ]
  },
  {
   "cell_type": "code",
   "execution_count": 96,
   "metadata": {},
   "outputs": [
    {
     "data": {
      "text/plain": [
       "Text(0.5, 1.0, 'Car Price')"
      ]
     },
     "execution_count": 96,
     "metadata": {},
     "output_type": "execute_result"
    },
    {
     "data": {
      "image/png": "[encoded data removed]",
      "text/plain": [
       "<Figure size 432x288 with 1 Axes>"
      ]
     },
     "metadata": {},
     "output_type": "display_data"
    }
   ],
   "source": [
    "import matplotlib.pyplot as plt\n",
    "%matplotlib inline\n",
    "\n",
    "plt.hist(cars['price'])\n",
    "\n",
    "plt.xlabel(\"Price\")\n",
    "\n",
    "plt.ylabel(\"Amount of Cars\")\n",
    "\n",
    "plt.title(\"Car Price\")\n"
   ]
  },
  {
   "cell_type": "markdown",
   "metadata": {},
   "source": [
    "**Q [1 Mark]:** Choose a suitable method and report the relationship (e.g., linear) between `price` and `horsepower`."
   ]
  },
  {
   "cell_type": "code",
   "execution_count": 97,
   "metadata": {},
   "outputs": [
    {
     "data": {
      "text/plain": [
       "Text(0.5, 1.0, 'Car Price VS Horsepower')"
      ]
     },
     "execution_count": 97,
     "metadata": {},
     "output_type": "execute_result"
    },
    {
     "data": {
      "image/png": "[encoded data removed]",
      "text/plain": [
       "<Figure size 432x288 with 1 Axes>"
      ]
     },
     "metadata": {},
     "output_type": "display_data"
    }
   ],
   "source": [
    "plt.scatter(cars['price'], cars['horsepower'], color='black')\n",
    "plt.xlabel(\"Horsepower\")\n",
    "plt.ylabel(\"Price\")\n",
    "\n",
    "plt.title(\"Car Price VS Horsepower\")\n",
    "\n"
   ]
  },
  {
   "cell_type": "markdown",
   "metadata": {},
   "source": [
    "**Q [1 Mark]:** Choose a suitable method and report the relationship between `price` and `make`."
   ]
  },
  {
   "cell_type": "code",
   "execution_count": 98,
   "metadata": {},
   "outputs": [
    {
     "data": {
      "text/plain": [
       "Text(0, 0.5, 'Price')"
      ]
     },
     "execution_count": 98,
     "metadata": {},
     "output_type": "execute_result"
    },
    {
     "data": {
      "image/png": "[encoded data removed]",
      "text/plain": [
       "<Figure size 432x288 with 1 Axes>"
      ]
     },
     "metadata": {},
     "output_type": "display_data"
    }
   ],
   "source": [
    "plt.scatter(cars['price'], cars['make'], color='grey')\n",
    "\n",
    "plt.title(\"Price vs Car Make\")\n",
    "plt.xlabel(\"Make\")\n",
    "plt.ylabel(\"Price\")"
   ]
  },
  {
   "cell_type": "markdown",
   "metadata": {},
   "source": [
    "**Q [1 Mark]:** Choose a suitable method and report the relationship between `price` and `make`. Note: here suppose you are only interested in these makes `honda`, `audi`, `mazda`, `bmw`, `audi`, `toyota`, your X-axis thus only includes these makes."
   ]
  },
  {
   "cell_type": "code",
   "execution_count": 100,
   "metadata": {},
   "outputs": [
    {
     "data": {
      "text/plain": [
       "Text(0, 0.5, 'Price')"
      ]
     },
     "execution_count": 100,
     "metadata": {},
     "output_type": "execute_result"
    },
    {
     "data": {
      "image/png": "[encoded data removed]",
      "text/plain": [
       "<Figure size 432x288 with 1 Axes>"
      ]
     },
     "metadata": {},
     "output_type": "display_data"
    }
   ],
   "source": [
    "list = ['honda', 'audi', 'mazda', 'bmw', 'audi', 'toyota']\n",
    "\n",
    "plt.scatter(cars['make'][cars['make'].isin(list)], cars['price'][cars['make'].isin(list)], color='silver')\n",
    "plt.title(\"Price vs Make\")\n",
    "plt.xlabel(\"Make\")\n",
    "plt.ylabel(\"Price\")"
   ]
  },
  {
   "cell_type": "markdown",
   "metadata": {},
   "source": [
    "## Task 2 - KNN Modeling [10 Marks]"
   ]
  },
  {
   "cell_type": "markdown",
   "metadata": {},
   "source": [
    "**Q [1 Mark]:** Based on the cleaned data, please only select columns with continuous values and import them into a new data frame named **numeric_cars**. Report the first five instances."
   ]
  },
  {
   "cell_type": "code",
   "execution_count": 101,
   "metadata": {},
   "outputs": [
    {
     "data": {
      "text/html": [
       "<div>\n",
       "<style scoped>\n",
       "    .dataframe tbody tr th:only-of-type {\n",
       "        vertical-align: middle;\n",
       "    }\n",
       "\n",
       "    .dataframe tbody tr th {\n",
       "        vertical-align: top;\n",
       "    }\n",
       "\n",
       "    .dataframe thead th {\n",
       "        text-align: right;\n",
       "    }\n",
       "</style>\n",
       "<table border=\"1\" class=\"dataframe\">\n",
       "  <thead>\n",
       "    <tr style=\"text-align: right;\">\n",
       "      <th></th>\n",
       "      <th>normalized-losses</th>\n",
       "      <th>wheel-base</th>\n",
       "      <th>length</th>\n",
       "      <th>width</th>\n",
       "      <th>height</th>\n",
       "      <th>curb-weight</th>\n",
       "      <th>engine-size</th>\n",
       "      <th>bore</th>\n",
       "      <th>stroke</th>\n",
       "      <th>compression-ratio</th>\n",
       "      <th>horsepower</th>\n",
       "      <th>peak-rpm</th>\n",
       "      <th>city-mpg</th>\n",
       "      <th>highway-mpg</th>\n",
       "      <th>price</th>\n",
       "    </tr>\n",
       "  </thead>\n",
       "  <tbody>\n",
       "    <tr>\n",
       "      <th>0</th>\n",
       "      <td>122</td>\n",
       "      <td>88.6</td>\n",
       "      <td>168.8</td>\n",
       "      <td>64.1</td>\n",
       "      <td>48.8</td>\n",
       "      <td>2548</td>\n",
       "      <td>130</td>\n",
       "      <td>3.47</td>\n",
       "      <td>2.68</td>\n",
       "      <td>9</td>\n",
       "      <td>111</td>\n",
       "      <td>5000</td>\n",
       "      <td>21</td>\n",
       "      <td>27</td>\n",
       "      <td>13495</td>\n",
       "    </tr>\n",
       "    <tr>\n",
       "      <th>1</th>\n",
       "      <td>122</td>\n",
       "      <td>88.6</td>\n",
       "      <td>168.8</td>\n",
       "      <td>64.1</td>\n",
       "      <td>48.8</td>\n",
       "      <td>2548</td>\n",
       "      <td>130</td>\n",
       "      <td>3.47</td>\n",
       "      <td>2.68</td>\n",
       "      <td>9</td>\n",
       "      <td>111</td>\n",
       "      <td>5000</td>\n",
       "      <td>21</td>\n",
       "      <td>27</td>\n",
       "      <td>16500</td>\n",
       "    </tr>\n",
       "    <tr>\n",
       "      <th>2</th>\n",
       "      <td>122</td>\n",
       "      <td>94.5</td>\n",
       "      <td>171.2</td>\n",
       "      <td>65.5</td>\n",
       "      <td>52.4</td>\n",
       "      <td>2823</td>\n",
       "      <td>152</td>\n",
       "      <td>2.68</td>\n",
       "      <td>3.47</td>\n",
       "      <td>9</td>\n",
       "      <td>154</td>\n",
       "      <td>5000</td>\n",
       "      <td>19</td>\n",
       "      <td>26</td>\n",
       "      <td>16500</td>\n",
       "    </tr>\n",
       "    <tr>\n",
       "      <th>3</th>\n",
       "      <td>164</td>\n",
       "      <td>99.8</td>\n",
       "      <td>176.6</td>\n",
       "      <td>66.2</td>\n",
       "      <td>54.3</td>\n",
       "      <td>2337</td>\n",
       "      <td>109</td>\n",
       "      <td>3.19</td>\n",
       "      <td>3.40</td>\n",
       "      <td>10</td>\n",
       "      <td>102</td>\n",
       "      <td>5500</td>\n",
       "      <td>24</td>\n",
       "      <td>30</td>\n",
       "      <td>13950</td>\n",
       "    </tr>\n",
       "    <tr>\n",
       "      <th>4</th>\n",
       "      <td>164</td>\n",
       "      <td>99.4</td>\n",
       "      <td>176.6</td>\n",
       "      <td>66.4</td>\n",
       "      <td>54.3</td>\n",
       "      <td>2824</td>\n",
       "      <td>136</td>\n",
       "      <td>3.19</td>\n",
       "      <td>3.40</td>\n",
       "      <td>8</td>\n",
       "      <td>115</td>\n",
       "      <td>5500</td>\n",
       "      <td>18</td>\n",
       "      <td>22</td>\n",
       "      <td>17450</td>\n",
       "    </tr>\n",
       "  </tbody>\n",
       "</table>\n",
       "</div>"
      ],
      "text/plain": [
       "   normalized-losses  wheel-base  length  width  height  curb-weight  \\\n",
       "0                122        88.6   168.8   64.1    48.8         2548   \n",
       "1                122        88.6   168.8   64.1    48.8         2548   \n",
       "2                122        94.5   171.2   65.5    52.4         2823   \n",
       "3                164        99.8   176.6   66.2    54.3         2337   \n",
       "4                164        99.4   176.6   66.4    54.3         2824   \n",
       "\n",
       "   engine-size  bore  stroke  compression-ratio  horsepower  peak-rpm  \\\n",
       "0          130  3.47    2.68                  9         111      5000   \n",
       "1          130  3.47    2.68                  9         111      5000   \n",
       "2          152  2.68    3.47                  9         154      5000   \n",
       "3          109  3.19    3.40                 10         102      5500   \n",
       "4          136  3.19    3.40                  8         115      5500   \n",
       "\n",
       "   city-mpg  highway-mpg  price  \n",
       "0        21           27  13495  \n",
       "1        21           27  16500  \n",
       "2        19           26  16500  \n",
       "3        24           30  13950  \n",
       "4        18           22  17450  "
      ]
     },
     "execution_count": 101,
     "metadata": {},
     "output_type": "execute_result"
    }
   ],
   "source": [
    "num_cols = [\n",
    "        'normalized-losses', \n",
    "        'wheel-base',\n",
    "        'length',\n",
    "        'width',\n",
    "        'height',\n",
    "        'curb-weight',\n",
    "        'engine-size',\n",
    "        'bore',\n",
    "        'stroke',\n",
    "        'compression-ratio',\n",
    "        'horsepower',\n",
    "        'peak-rpm',\n",
    "        'city-mpg',\n",
    "        'highway-mpg',\n",
    "        'price']\n",
    "numeric_cars = cars[num_cols]\n",
    "numeric_cars.head()"
   ]
  },
  {
   "cell_type": "markdown",
   "metadata": {},
   "source": [
    "**Q [1 Mark]:** The type of our target column `price` is numerical. Use [`Binarizer`](https://scikit-learn.org/stable/modules/generated/sklearn.preprocessing.Binarizer.html) to set feature values to 0 or 1 via a threshold (the mean value of that column). Report the first five instances."
   ]
  },
  {
   "cell_type": "code",
   "execution_count": 102,
   "metadata": {},
   "outputs": [
    {
     "name": "stderr",
     "output_type": "stream",
     "text": [
      "/Users/prempradeep/anaconda3/lib/python3.6/site-packages/ipykernel_launcher.py:10: SettingWithCopyWarning: \n",
      "A value is trying to be set on a copy of a slice from a DataFrame.\n",
      "Try using .loc[row_indexer,col_indexer] = value instead\n",
      "\n",
      "See the caveats in the documentation: http://pandas.pydata.org/pandas-docs/stable/indexing.html#indexing-view-versus-copy\n",
      "  # Remove the CWD from sys.path while we load stuff.\n"
     ]
    },
    {
     "data": {
      "text/html": [
       "<div>\n",
       "<style scoped>\n",
       "    .dataframe tbody tr th:only-of-type {\n",
       "        vertical-align: middle;\n",
       "    }\n",
       "\n",
       "    .dataframe tbody tr th {\n",
       "        vertical-align: top;\n",
       "    }\n",
       "\n",
       "    .dataframe thead th {\n",
       "        text-align: right;\n",
       "    }\n",
       "</style>\n",
       "<table border=\"1\" class=\"dataframe\">\n",
       "  <thead>\n",
       "    <tr style=\"text-align: right;\">\n",
       "      <th></th>\n",
       "      <th>normalized-losses</th>\n",
       "      <th>wheel-base</th>\n",
       "      <th>length</th>\n",
       "      <th>width</th>\n",
       "      <th>height</th>\n",
       "      <th>curb-weight</th>\n",
       "      <th>engine-size</th>\n",
       "      <th>bore</th>\n",
       "      <th>stroke</th>\n",
       "      <th>compression-ratio</th>\n",
       "      <th>horsepower</th>\n",
       "      <th>peak-rpm</th>\n",
       "      <th>city-mpg</th>\n",
       "      <th>highway-mpg</th>\n",
       "      <th>price</th>\n",
       "    </tr>\n",
       "  </thead>\n",
       "  <tbody>\n",
       "    <tr>\n",
       "      <th>0</th>\n",
       "      <td>122</td>\n",
       "      <td>88.6</td>\n",
       "      <td>168.8</td>\n",
       "      <td>64.1</td>\n",
       "      <td>48.8</td>\n",
       "      <td>2548</td>\n",
       "      <td>130</td>\n",
       "      <td>3.47</td>\n",
       "      <td>2.68</td>\n",
       "      <td>9</td>\n",
       "      <td>111</td>\n",
       "      <td>5000</td>\n",
       "      <td>21</td>\n",
       "      <td>27</td>\n",
       "      <td>1</td>\n",
       "    </tr>\n",
       "    <tr>\n",
       "      <th>1</th>\n",
       "      <td>122</td>\n",
       "      <td>88.6</td>\n",
       "      <td>168.8</td>\n",
       "      <td>64.1</td>\n",
       "      <td>48.8</td>\n",
       "      <td>2548</td>\n",
       "      <td>130</td>\n",
       "      <td>3.47</td>\n",
       "      <td>2.68</td>\n",
       "      <td>9</td>\n",
       "      <td>111</td>\n",
       "      <td>5000</td>\n",
       "      <td>21</td>\n",
       "      <td>27</td>\n",
       "      <td>1</td>\n",
       "    </tr>\n",
       "    <tr>\n",
       "      <th>2</th>\n",
       "      <td>122</td>\n",
       "      <td>94.5</td>\n",
       "      <td>171.2</td>\n",
       "      <td>65.5</td>\n",
       "      <td>52.4</td>\n",
       "      <td>2823</td>\n",
       "      <td>152</td>\n",
       "      <td>2.68</td>\n",
       "      <td>3.47</td>\n",
       "      <td>9</td>\n",
       "      <td>154</td>\n",
       "      <td>5000</td>\n",
       "      <td>19</td>\n",
       "      <td>26</td>\n",
       "      <td>1</td>\n",
       "    </tr>\n",
       "    <tr>\n",
       "      <th>3</th>\n",
       "      <td>164</td>\n",
       "      <td>99.8</td>\n",
       "      <td>176.6</td>\n",
       "      <td>66.2</td>\n",
       "      <td>54.3</td>\n",
       "      <td>2337</td>\n",
       "      <td>109</td>\n",
       "      <td>3.19</td>\n",
       "      <td>3.40</td>\n",
       "      <td>10</td>\n",
       "      <td>102</td>\n",
       "      <td>5500</td>\n",
       "      <td>24</td>\n",
       "      <td>30</td>\n",
       "      <td>1</td>\n",
       "    </tr>\n",
       "    <tr>\n",
       "      <th>4</th>\n",
       "      <td>164</td>\n",
       "      <td>99.4</td>\n",
       "      <td>176.6</td>\n",
       "      <td>66.4</td>\n",
       "      <td>54.3</td>\n",
       "      <td>2824</td>\n",
       "      <td>136</td>\n",
       "      <td>3.19</td>\n",
       "      <td>3.40</td>\n",
       "      <td>8</td>\n",
       "      <td>115</td>\n",
       "      <td>5500</td>\n",
       "      <td>18</td>\n",
       "      <td>22</td>\n",
       "      <td>1</td>\n",
       "    </tr>\n",
       "  </tbody>\n",
       "</table>\n",
       "</div>"
      ],
      "text/plain": [
       "   normalized-losses  wheel-base  length  width  height  curb-weight  \\\n",
       "0                122        88.6   168.8   64.1    48.8         2548   \n",
       "1                122        88.6   168.8   64.1    48.8         2548   \n",
       "2                122        94.5   171.2   65.5    52.4         2823   \n",
       "3                164        99.8   176.6   66.2    54.3         2337   \n",
       "4                164        99.4   176.6   66.4    54.3         2824   \n",
       "\n",
       "   engine-size  bore  stroke  compression-ratio  horsepower  peak-rpm  \\\n",
       "0          130  3.47    2.68                  9         111      5000   \n",
       "1          130  3.47    2.68                  9         111      5000   \n",
       "2          152  2.68    3.47                  9         154      5000   \n",
       "3          109  3.19    3.40                 10         102      5500   \n",
       "4          136  3.19    3.40                  8         115      5500   \n",
       "\n",
       "   city-mpg  highway-mpg  price  \n",
       "0        21           27      1  \n",
       "1        21           27      1  \n",
       "2        19           26      1  \n",
       "3        24           30      1  \n",
       "4        18           22      1  "
      ]
     },
     "execution_count": 102,
     "metadata": {},
     "output_type": "execute_result"
    }
   ],
   "source": [
    "from sklearn.preprocessing import Binarizer\n",
    "\n",
    "mean = numeric_cars['price'].mean()\n",
    "\n",
    "x = numeric_cars['price'].values\n",
    "x = x.reshape(-1,1)\n",
    "\n",
    "binarize = Binarizer(mean)\n",
    "\n",
    "numeric_cars['price'] = binarize.fit_transform(x)\n",
    "numeric_cars.head()"
   ]
  },
  {
   "cell_type": "markdown",
   "metadata": {},
   "source": [
    "**Q [2 Marks]:** Train the KNN model with classification.  \n",
    "Note: \n",
    "1. 75% of the data is used as the training set and the rest 25% is as the test set. \n",
    "2. Report the AUC value. \n",
    "3. Apart from the specified parameters and `random_state=1` for all cases, please use the default setting for other parameters."
   ]
  },
  {
   "cell_type": "code",
   "execution_count": 103,
   "metadata": {},
   "outputs": [
    {
     "name": "stdout",
     "output_type": "stream",
     "text": [
      "AUC value: 0.9126050420168067\n"
     ]
    }
   ],
   "source": [
    "from sklearn.neighbors import KNeighborsClassifier\n",
    "from sklearn.metrics import roc_auc_score\n",
    "from sklearn.model_selection import train_test_split\n",
    "\n",
    "info = numeric_cars\n",
    "\n",
    "training_set, test_set = train_test_split(info, random_state=1, test_size=0.25)#divide into testing & training \n",
    "\n",
    "#the below will divide 'info' into X & Y values && remove target price from X values\n",
    "X_test = test_set.drop(['price'], axis=1)\n",
    "Y_test = test_set['price']\n",
    "\n",
    "X_train = training_set.drop(['price'], axis=1)\n",
    "Y_train = training_set['price']\n",
    "\n",
    "model = KNeighborsClassifier()\n",
    "model.fit(X_train, Y_train)\n",
    "\n",
    "pred = model.predict(X_test)\n",
    "\n",
    "\n",
    "\n",
    "auc = roc_auc_score(Y_test, pred)\n",
    "print('AUC value: ' + str(auc))\n"
   ]
  },
  {
   "cell_type": "markdown",
   "metadata": {},
   "source": [
    "**Q [2 Marks]:** Train the KNN classfication model via different k values.   \n",
    "Note:  \n",
    "1. 75% of the data is used as the training set and the rest 25% is as the test set. \n",
    "2. Draw a figure with the x-axis representing the different k values `range(1,30)` in KNN and y-axis representing AUC value. Report the AUC performance on the training and test data respectively. \n",
    "3. Apart from the specified parameters and `random_state=1` for all cases, please use the default setting for other parameters."
   ]
  },
  {
   "cell_type": "code",
   "execution_count": 104,
   "metadata": {},
   "outputs": [
    {
     "data": {
      "text/plain": [
       "Text(0, 0.5, 'AUC')"
      ]
     },
     "execution_count": 104,
     "metadata": {},
     "output_type": "execute_result"
    },
    {
     "data": {
      "image/png": "[encoded data removed]",
      "text/plain": [
       "<Figure size 432x288 with 1 Axes>"
      ]
     },
     "metadata": {},
     "output_type": "display_data"
    }
   ],
   "source": [
    "k_vals = range(1,30)\n",
    "test_vals = []\n",
    "train_vals = []\n",
    "\n",
    "\n",
    "for i in k_range: #loop through k vals\n",
    "    graph = KNeighborsClassifier(n_neighbors=i)\n",
    "    \n",
    "    graph.fit(X_train, Y_train)                                    \n",
    "    pred = graph.predict(X_test)\n",
    "    pred_train = graph.predict(X_train)\n",
    "    \n",
    "    \n",
    "    test_vals.append(roc_auc_score(Y_test, pred))\n",
    "    train_vals.append(roc_auc_score(Y_train, pred_train))\n",
    "\n",
    "plt.plot(k_range, train_vals, color='gold')\n",
    "plt.title(\"Training Data\")\n",
    "plt.xlabel(\"'K' Value\")\n",
    "plt.ylabel(\"AUC\")"
   ]
  },
  {
   "cell_type": "code",
   "execution_count": 105,
   "metadata": {},
   "outputs": [
    {
     "data": {
      "text/plain": [
       "Text(0, 0.5, 'AUC')"
      ]
     },
     "execution_count": 105,
     "metadata": {},
     "output_type": "execute_result"
    },
    {
     "data": {
      "image/png": "[encoded data removed]",
      "text/plain": [
       "<Figure size 432x288 with 1 Axes>"
      ]
     },
     "metadata": {},
     "output_type": "display_data"
    }
   ],
   "source": [
    "plt.plot(k_vals, test_vals, color='green')\n",
    "plt.title(\"Testing Data\")\n",
    "plt.xlabel(\"'K' Value\")\n",
    "plt.ylabel(\"AUC\")"
   ]
  },
  {
   "cell_type": "markdown",
   "metadata": {},
   "source": [
    "**Q [2 Marks]:** Optimise the parameter k via cross-validated grid-search over a parameter grid.   \n",
    "Note: \n",
    "1. Use [`GridSearchCV`](https://scikit-learn.org/stable/modules/generated/sklearn.model_selection.GridSearchCV.html) to choose the best k value on the training set. The parameter grid is set to `np.arange(1, 30)`.\n",
    "2. The model evaluation criteria is AUC performance.\n",
    "3. Report the best k value and the corresponding AUC performance.\n",
    "4. Apart from the specified parameters and `random_state=1` for all cases, please use the default setting for other parameters."
   ]
  },
  {
   "cell_type": "code",
   "execution_count": 106,
   "metadata": {},
   "outputs": [
    {
     "name": "stderr",
     "output_type": "stream",
     "text": [
      "/Users/prempradeep/anaconda3/lib/python3.6/site-packages/sklearn/model_selection/_split.py:1978: FutureWarning: The default value of cv will change from 3 to 5 in version 0.22. Specify it explicitly to silence this warning.\n",
      "  warnings.warn(CV_WARNING, FutureWarning)\n"
     ]
    },
    {
     "name": "stdout",
     "output_type": "stream",
     "text": [
      "Best k value: {'n_neighbors': 29}\n",
      "Corresponding AUC value: 0.9270833333333334\n"
     ]
    }
   ],
   "source": [
    "from sklearn.model_selection import GridSearchCV\n",
    "\n",
    "data_range = {'n_neighbors': np.arange(1,30)}\n",
    "\n",
    "graph = KNeighborsClassifier()\n",
    "\n",
    "grid = GridSearchCV(graph, data_range, scoring='roc_auc')\n",
    "\n",
    "grid.fit(X_train, Y_train)\n",
    "\n",
    "grid_pred = grid.predict(X_test)\n",
    "\n",
    "print('Best k value:', grid.best_params_)\n",
    "print('Corresponding AUC value:', grid.best_score_)\n",
    "\n"
   ]
  },
  {
   "cell_type": "markdown",
   "metadata": {},
   "source": [
    "**Q [2 Marks]:** Train the KNN classification model via 5-fold CV.   \n",
    "Note:  \n",
    "1. Train a 5-fold CV KNN on the whole data. \n",
    "2. The model evaluation criteria is AUC performance.\n",
    "3. Draw a figure with the x-axis representing the different k values `range(1,30)` in KNN and y-axis representing cross-validated AUC value. \n",
    "4. Apart from the specified parameters and `random_state=1` for all cases, please use the default setting for other parameters."
   ]
  },
  {
   "cell_type": "code",
   "execution_count": 107,
   "metadata": {},
   "outputs": [
    {
     "data": {
      "text/plain": [
       "Text(0, 0.5, 'CV AUC score')"
      ]
     },
     "execution_count": 107,
     "metadata": {},
     "output_type": "execute_result"
    },
    {
     "data": {
      "image/png": "[encoded data removed]",
      "text/plain": [
       "<Figure size 432x288 with 1 Axes>"
      ]
     },
     "metadata": {},
     "output_type": "display_data"
    }
   ],
   "source": [
    "from sklearn.model_selection import cross_val_score, KFold\n",
    "\n",
    "info = numeric_cars\n",
    "\n",
    "Y_test = numeric_cars['price']\n",
    "\n",
    "X_test = numeric_cars.drop(['price'], axis=1)\n",
    "\n",
    "k_vals = range(1,30)\n",
    "results = []\n",
    "\n",
    "for i in k_vals:\n",
    "    cv_graph = KNeighborsClassifier(n_neighbors=i)\n",
    "\n",
    "    cv_results = cross_val_score(cv_graph, X_test, Y_test, scoring='roc_auc', cv=5)\n",
    "    results.append(cv_results.mean())\n",
    "    \n",
    "plt.plot(k_vals, results, color='blue')\n",
    "plt.title(\"5-fold CV KNN\")\n",
    "plt.xlabel(\"'K' Value\")\n",
    "plt.ylabel(\"CV AUC score\")\n"
   ]
  },
  {
   "cell_type": "code",
   "execution_count": null,
   "metadata": {},
   "outputs": [],
   "source": []
  },
  {
   "cell_type": "code",
   "execution_count": null,
   "metadata": {},
   "outputs": [],
   "source": []
  }
 ],
 "metadata": {
  "kernelspec": {
   "display_name": "Python 3",
   "language": "python",
   "name": "python3"
  },
  "language_info": {
   "codemirror_mode": {
    "name": "ipython",
    "version": 3
   },
   "file_extension": ".py",
   "mimetype": "text/x-python",
   "name": "python",
   "nbconvert_exporter": "python",
   "pygments_lexer": "ipython3",
   "version": "3.6.8"
  }
 },
 "nbformat": 4,
 "nbformat_minor": 2
}
